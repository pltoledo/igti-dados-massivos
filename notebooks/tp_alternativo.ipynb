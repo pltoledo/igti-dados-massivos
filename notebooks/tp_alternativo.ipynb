{
 "cells": [
  {
   "cell_type": "code",
   "execution_count": 1,
   "id": "dc20237e-ceb3-42f7-91b2-1b9f11ed240c",
   "metadata": {},
   "outputs": [],
   "source": [
    "from pyspark.sql import SparkSession\n",
    "import pyspark.sql.functions as f\n",
    "from pyspark.sql.window import Window"
   ]
  },
  {
   "cell_type": "code",
   "execution_count": 2,
   "id": "6c9daa5c-c583-443f-a703-df0de3abdb66",
   "metadata": {},
   "outputs": [],
   "source": [
    "spark = SparkSession.builder.getOrCreate()"
   ]
  },
  {
   "cell_type": "code",
   "execution_count": 48,
   "id": "8f284014-d0b2-465d-a135-ae8cc2ea6c09",
   "metadata": {},
   "outputs": [],
   "source": [
    "# df_ratings = spark.read.csv(\"../data/tp/movielens/ratings.csv\", header=True)"
   ]
  },
  {
   "cell_type": "code",
   "execution_count": null,
   "id": "65fbcdd9-a7ea-48d1-a1b5-fdf841fe051a",
   "metadata": {},
   "outputs": [],
   "source": [
    "# df_movies = spark.read.csv(\"../data/tp/movielens/movies.csv\", header=True)"
   ]
  },
  {
   "cell_type": "code",
   "execution_count": null,
   "id": "480191f5-7e07-4002-b43a-7a2139fa2fae",
   "metadata": {},
   "outputs": [],
   "source": [
    "# df = (\n",
    "#     df_ratings\n",
    "#     .groupby('movieId')\n",
    "#     .agg(f.mean('rating').alias('averageRating'))\n",
    "#     .join(df_movies, 'movieId')\n",
    "#     .withColumn('year', f.regexp_extract(f.col('title'), '(?<=\\()[0-9]+(?=\\))', 0).cast('int'))\n",
    "# )"
   ]
  },
  {
   "cell_type": "code",
   "execution_count": null,
   "id": "5a5c0198-b14a-40e0-83d9-1df546186109",
   "metadata": {},
   "outputs": [],
   "source": [
    "# df.write.save('../data/tp/movielens/full_movie')"
   ]
  },
  {
   "cell_type": "markdown",
   "id": "2010e800-e48e-4e8a-a190-39ff33b40082",
   "metadata": {
    "tags": []
   },
   "source": [
    "## Leitura dos Dados"
   ]
  },
  {
   "cell_type": "code",
   "execution_count": 3,
   "id": "e7c7563a-072c-452b-97a8-9836f19f6bf5",
   "metadata": {},
   "outputs": [],
   "source": [
    "df = spark.read.load('../data/tp/movielens/full_movie')"
   ]
  },
  {
   "cell_type": "code",
   "execution_count": 4,
   "id": "491a2eac-4dfc-48c5-a027-613a23f21b7d",
   "metadata": {},
   "outputs": [
    {
     "data": {
      "text/html": [
       "<div>\n",
       "<style scoped>\n",
       "    .dataframe tbody tr th:only-of-type {\n",
       "        vertical-align: middle;\n",
       "    }\n",
       "\n",
       "    .dataframe tbody tr th {\n",
       "        vertical-align: top;\n",
       "    }\n",
       "\n",
       "    .dataframe thead th {\n",
       "        text-align: right;\n",
       "    }\n",
       "</style>\n",
       "<table border=\"1\" class=\"dataframe\">\n",
       "  <thead>\n",
       "    <tr style=\"text-align: right;\">\n",
       "      <th></th>\n",
       "      <th>movieId</th>\n",
       "      <th>averageRating</th>\n",
       "      <th>title</th>\n",
       "      <th>genres</th>\n",
       "      <th>year</th>\n",
       "    </tr>\n",
       "  </thead>\n",
       "  <tbody>\n",
       "    <tr>\n",
       "      <th>0</th>\n",
       "      <td>1674</td>\n",
       "      <td>3.842865</td>\n",
       "      <td>Witness (1985)</td>\n",
       "      <td>Drama|Romance|Thriller</td>\n",
       "      <td>1985</td>\n",
       "    </tr>\n",
       "    <tr>\n",
       "      <th>1</th>\n",
       "      <td>3156</td>\n",
       "      <td>3.149579</td>\n",
       "      <td>Bicentennial Man (1999)</td>\n",
       "      <td>Drama|Romance|Sci-Fi</td>\n",
       "      <td>1999</td>\n",
       "    </tr>\n",
       "    <tr>\n",
       "      <th>2</th>\n",
       "      <td>85020</td>\n",
       "      <td>3.469360</td>\n",
       "      <td>Mechanic, The (2011)</td>\n",
       "      <td>Action|Drama|Thriller</td>\n",
       "      <td>2011</td>\n",
       "    </tr>\n",
       "    <tr>\n",
       "      <th>3</th>\n",
       "      <td>54881</td>\n",
       "      <td>3.826231</td>\n",
       "      <td>King of Kong, The (2007)</td>\n",
       "      <td>Documentary</td>\n",
       "      <td>2007</td>\n",
       "    </tr>\n",
       "    <tr>\n",
       "      <th>4</th>\n",
       "      <td>671</td>\n",
       "      <td>3.674146</td>\n",
       "      <td>Mystery Science Theater 3000: The Movie (1996)</td>\n",
       "      <td>Comedy|Sci-Fi</td>\n",
       "      <td>1996</td>\n",
       "    </tr>\n",
       "  </tbody>\n",
       "</table>\n",
       "</div>"
      ],
      "text/plain": [
       "  movieId  averageRating                                           title  \\\n",
       "0    1674       3.842865                                  Witness (1985)   \n",
       "1    3156       3.149579                         Bicentennial Man (1999)   \n",
       "2   85020       3.469360                            Mechanic, The (2011)   \n",
       "3   54881       3.826231                        King of Kong, The (2007)   \n",
       "4     671       3.674146  Mystery Science Theater 3000: The Movie (1996)   \n",
       "\n",
       "                   genres  year  \n",
       "0  Drama|Romance|Thriller  1985  \n",
       "1    Drama|Romance|Sci-Fi  1999  \n",
       "2   Action|Drama|Thriller  2011  \n",
       "3             Documentary  2007  \n",
       "4           Comedy|Sci-Fi  1996  "
      ]
     },
     "execution_count": 4,
     "metadata": {},
     "output_type": "execute_result"
    }
   ],
   "source": [
    "df.limit(5).toPandas()"
   ]
  },
  {
   "cell_type": "code",
   "execution_count": 5,
   "id": "4d5a0e14-b722-4898-b0b3-bd9e23388ea6",
   "metadata": {},
   "outputs": [
    {
     "name": "stdout",
     "output_type": "stream",
     "text": [
      "root\n",
      " |-- movieId: string (nullable = true)\n",
      " |-- averageRating: double (nullable = true)\n",
      " |-- title: string (nullable = true)\n",
      " |-- genres: string (nullable = true)\n",
      " |-- year: integer (nullable = true)\n",
      "\n"
     ]
    }
   ],
   "source": [
    "df.printSchema()"
   ]
  },
  {
   "cell_type": "markdown",
   "id": "049750d3-2c9c-4070-ad87-49e8db3817a6",
   "metadata": {
    "tags": []
   },
   "source": [
    "## Resolução Simulada"
   ]
  },
  {
   "cell_type": "markdown",
   "id": "50fca471-4b87-4cbf-9bbe-31eca4a3e1b3",
   "metadata": {},
   "source": [
    "### Questão 6"
   ]
  },
  {
   "cell_type": "code",
   "execution_count": 7,
   "id": "6edf0e3a-064b-46cb-871b-284e44719aef",
   "metadata": {},
   "outputs": [],
   "source": [
    "df_q6 = df.withColumn('genre', f.explode(f.split('genres', '\\|')))"
   ]
  },
  {
   "cell_type": "code",
   "execution_count": 8,
   "id": "1648853f-b353-48cd-b94d-78774d3a91e3",
   "metadata": {},
   "outputs": [
    {
     "data": {
      "text/html": [
       "<div>\n",
       "<style scoped>\n",
       "    .dataframe tbody tr th:only-of-type {\n",
       "        vertical-align: middle;\n",
       "    }\n",
       "\n",
       "    .dataframe tbody tr th {\n",
       "        vertical-align: top;\n",
       "    }\n",
       "\n",
       "    .dataframe thead th {\n",
       "        text-align: right;\n",
       "    }\n",
       "</style>\n",
       "<table border=\"1\" class=\"dataframe\">\n",
       "  <thead>\n",
       "    <tr style=\"text-align: right;\">\n",
       "      <th></th>\n",
       "      <th>movieId</th>\n",
       "      <th>averageRating</th>\n",
       "      <th>title</th>\n",
       "      <th>genres</th>\n",
       "      <th>year</th>\n",
       "      <th>genre</th>\n",
       "    </tr>\n",
       "  </thead>\n",
       "  <tbody>\n",
       "    <tr>\n",
       "      <th>0</th>\n",
       "      <td>1674</td>\n",
       "      <td>3.842865</td>\n",
       "      <td>Witness (1985)</td>\n",
       "      <td>Drama|Romance|Thriller</td>\n",
       "      <td>1985</td>\n",
       "      <td>Drama</td>\n",
       "    </tr>\n",
       "    <tr>\n",
       "      <th>1</th>\n",
       "      <td>1674</td>\n",
       "      <td>3.842865</td>\n",
       "      <td>Witness (1985)</td>\n",
       "      <td>Drama|Romance|Thriller</td>\n",
       "      <td>1985</td>\n",
       "      <td>Romance</td>\n",
       "    </tr>\n",
       "    <tr>\n",
       "      <th>2</th>\n",
       "      <td>1674</td>\n",
       "      <td>3.842865</td>\n",
       "      <td>Witness (1985)</td>\n",
       "      <td>Drama|Romance|Thriller</td>\n",
       "      <td>1985</td>\n",
       "      <td>Thriller</td>\n",
       "    </tr>\n",
       "    <tr>\n",
       "      <th>3</th>\n",
       "      <td>3156</td>\n",
       "      <td>3.149579</td>\n",
       "      <td>Bicentennial Man (1999)</td>\n",
       "      <td>Drama|Romance|Sci-Fi</td>\n",
       "      <td>1999</td>\n",
       "      <td>Drama</td>\n",
       "    </tr>\n",
       "    <tr>\n",
       "      <th>4</th>\n",
       "      <td>3156</td>\n",
       "      <td>3.149579</td>\n",
       "      <td>Bicentennial Man (1999)</td>\n",
       "      <td>Drama|Romance|Sci-Fi</td>\n",
       "      <td>1999</td>\n",
       "      <td>Romance</td>\n",
       "    </tr>\n",
       "  </tbody>\n",
       "</table>\n",
       "</div>"
      ],
      "text/plain": [
       "  movieId  averageRating                    title                  genres  \\\n",
       "0    1674       3.842865           Witness (1985)  Drama|Romance|Thriller   \n",
       "1    1674       3.842865           Witness (1985)  Drama|Romance|Thriller   \n",
       "2    1674       3.842865           Witness (1985)  Drama|Romance|Thriller   \n",
       "3    3156       3.149579  Bicentennial Man (1999)    Drama|Romance|Sci-Fi   \n",
       "4    3156       3.149579  Bicentennial Man (1999)    Drama|Romance|Sci-Fi   \n",
       "\n",
       "   year     genre  \n",
       "0  1985     Drama  \n",
       "1  1985   Romance  \n",
       "2  1985  Thriller  \n",
       "3  1999     Drama  \n",
       "4  1999   Romance  "
      ]
     },
     "execution_count": 8,
     "metadata": {},
     "output_type": "execute_result"
    }
   ],
   "source": [
    "df_q6.limit(5).toPandas()"
   ]
  },
  {
   "cell_type": "code",
   "execution_count": 12,
   "id": "5fe8fcb7-bcf1-4fc7-aad1-64f6b75be5e6",
   "metadata": {},
   "outputs": [
    {
     "data": {
      "text/html": [
       "<div>\n",
       "<style scoped>\n",
       "    .dataframe tbody tr th:only-of-type {\n",
       "        vertical-align: middle;\n",
       "    }\n",
       "\n",
       "    .dataframe tbody tr th {\n",
       "        vertical-align: top;\n",
       "    }\n",
       "\n",
       "    .dataframe thead th {\n",
       "        text-align: right;\n",
       "    }\n",
       "</style>\n",
       "<table border=\"1\" class=\"dataframe\">\n",
       "  <thead>\n",
       "    <tr style=\"text-align: right;\">\n",
       "      <th></th>\n",
       "      <th>genre</th>\n",
       "    </tr>\n",
       "  </thead>\n",
       "  <tbody>\n",
       "    <tr>\n",
       "      <th>0</th>\n",
       "      <td>Crime</td>\n",
       "    </tr>\n",
       "    <tr>\n",
       "      <th>1</th>\n",
       "      <td>Romance</td>\n",
       "    </tr>\n",
       "    <tr>\n",
       "      <th>2</th>\n",
       "      <td>Thriller</td>\n",
       "    </tr>\n",
       "    <tr>\n",
       "      <th>3</th>\n",
       "      <td>Adventure</td>\n",
       "    </tr>\n",
       "    <tr>\n",
       "      <th>4</th>\n",
       "      <td>Drama</td>\n",
       "    </tr>\n",
       "    <tr>\n",
       "      <th>5</th>\n",
       "      <td>War</td>\n",
       "    </tr>\n",
       "    <tr>\n",
       "      <th>6</th>\n",
       "      <td>Documentary</td>\n",
       "    </tr>\n",
       "    <tr>\n",
       "      <th>7</th>\n",
       "      <td>Fantasy</td>\n",
       "    </tr>\n",
       "    <tr>\n",
       "      <th>8</th>\n",
       "      <td>Mystery</td>\n",
       "    </tr>\n",
       "    <tr>\n",
       "      <th>9</th>\n",
       "      <td>Musical</td>\n",
       "    </tr>\n",
       "    <tr>\n",
       "      <th>10</th>\n",
       "      <td>Animation</td>\n",
       "    </tr>\n",
       "    <tr>\n",
       "      <th>11</th>\n",
       "      <td>Film-Noir</td>\n",
       "    </tr>\n",
       "    <tr>\n",
       "      <th>12</th>\n",
       "      <td>(no genres listed)</td>\n",
       "    </tr>\n",
       "    <tr>\n",
       "      <th>13</th>\n",
       "      <td>IMAX</td>\n",
       "    </tr>\n",
       "    <tr>\n",
       "      <th>14</th>\n",
       "      <td>Horror</td>\n",
       "    </tr>\n",
       "    <tr>\n",
       "      <th>15</th>\n",
       "      <td>Western</td>\n",
       "    </tr>\n",
       "    <tr>\n",
       "      <th>16</th>\n",
       "      <td>Comedy</td>\n",
       "    </tr>\n",
       "    <tr>\n",
       "      <th>17</th>\n",
       "      <td>Children</td>\n",
       "    </tr>\n",
       "    <tr>\n",
       "      <th>18</th>\n",
       "      <td>Action</td>\n",
       "    </tr>\n",
       "    <tr>\n",
       "      <th>19</th>\n",
       "      <td>Sci-Fi</td>\n",
       "    </tr>\n",
       "  </tbody>\n",
       "</table>\n",
       "</div>"
      ],
      "text/plain": [
       "                 genre\n",
       "0                Crime\n",
       "1              Romance\n",
       "2             Thriller\n",
       "3            Adventure\n",
       "4                Drama\n",
       "5                  War\n",
       "6          Documentary\n",
       "7              Fantasy\n",
       "8              Mystery\n",
       "9              Musical\n",
       "10           Animation\n",
       "11           Film-Noir\n",
       "12  (no genres listed)\n",
       "13                IMAX\n",
       "14              Horror\n",
       "15             Western\n",
       "16              Comedy\n",
       "17            Children\n",
       "18              Action\n",
       "19              Sci-Fi"
      ]
     },
     "execution_count": 12,
     "metadata": {},
     "output_type": "execute_result"
    }
   ],
   "source": [
    "df_q6.select('genre').distinct().toPandas()"
   ]
  },
  {
   "cell_type": "markdown",
   "id": "97260521-3783-4d73-8229-0777edf261d1",
   "metadata": {},
   "source": [
    "Filmes de ação e aventura em 2015"
   ]
  },
  {
   "cell_type": "code",
   "execution_count": 13,
   "id": "16ff0dde-19c7-4af2-81cc-bdf824f1cd9a",
   "metadata": {},
   "outputs": [
    {
     "data": {
      "text/plain": [
       "378"
      ]
     },
     "execution_count": 13,
     "metadata": {},
     "output_type": "execute_result"
    }
   ],
   "source": [
    "df_q6.filter('genre in (\"Action\", \"Adventure\") and year = \"2015\"').count()"
   ]
  },
  {
   "cell_type": "code",
   "execution_count": 14,
   "id": "f19e6a15-082c-4260-8710-54626b1a33b1",
   "metadata": {},
   "outputs": [
    {
     "data": {
      "text/plain": [
       "378"
      ]
     },
     "execution_count": 14,
     "metadata": {},
     "output_type": "execute_result"
    }
   ],
   "source": [
    "df_q6.filter('genre in (\"Action\", \"Adventure\")').filter('year = \"2015\"').count()"
   ]
  },
  {
   "cell_type": "code",
   "execution_count": 15,
   "id": "bf81210f-d9b7-4a3c-a888-0635c99bb9ba",
   "metadata": {},
   "outputs": [
    {
     "data": {
      "text/html": [
       "<div>\n",
       "<style scoped>\n",
       "    .dataframe tbody tr th:only-of-type {\n",
       "        vertical-align: middle;\n",
       "    }\n",
       "\n",
       "    .dataframe tbody tr th {\n",
       "        vertical-align: top;\n",
       "    }\n",
       "\n",
       "    .dataframe thead th {\n",
       "        text-align: right;\n",
       "    }\n",
       "</style>\n",
       "<table border=\"1\" class=\"dataframe\">\n",
       "  <thead>\n",
       "    <tr style=\"text-align: right;\">\n",
       "      <th></th>\n",
       "      <th>count</th>\n",
       "    </tr>\n",
       "  </thead>\n",
       "  <tbody>\n",
       "    <tr>\n",
       "      <th>0</th>\n",
       "      <td>320</td>\n",
       "    </tr>\n",
       "  </tbody>\n",
       "</table>\n",
       "</div>"
      ],
      "text/plain": [
       "   count\n",
       "0    320"
      ]
     },
     "execution_count": 15,
     "metadata": {},
     "output_type": "execute_result"
    }
   ],
   "source": [
    "df_q6.filter('genre in (\"Action\", \"Adventure\")').filter('year = \"2015\"').agg(f.countDistinct('movieId').alias('count')).toPandas()"
   ]
  },
  {
   "cell_type": "markdown",
   "id": "5dc601cf-8f81-418e-a8c8-a099ec1f56cc",
   "metadata": {},
   "source": [
    "### Questão 7"
   ]
  },
  {
   "cell_type": "code",
   "execution_count": 16,
   "id": "3eff45bf-a37f-4b41-be0d-caa4c456bf8b",
   "metadata": {},
   "outputs": [
    {
     "data": {
      "text/html": [
       "<div>\n",
       "<style scoped>\n",
       "    .dataframe tbody tr th:only-of-type {\n",
       "        vertical-align: middle;\n",
       "    }\n",
       "\n",
       "    .dataframe tbody tr th {\n",
       "        vertical-align: top;\n",
       "    }\n",
       "\n",
       "    .dataframe thead th {\n",
       "        text-align: right;\n",
       "    }\n",
       "</style>\n",
       "<table border=\"1\" class=\"dataframe\">\n",
       "  <thead>\n",
       "    <tr style=\"text-align: right;\">\n",
       "      <th></th>\n",
       "      <th>genre</th>\n",
       "      <th>count</th>\n",
       "    </tr>\n",
       "  </thead>\n",
       "  <tbody>\n",
       "    <tr>\n",
       "      <th>0</th>\n",
       "      <td>Drama</td>\n",
       "      <td>24465</td>\n",
       "    </tr>\n",
       "  </tbody>\n",
       "</table>\n",
       "</div>"
      ],
      "text/plain": [
       "   genre  count\n",
       "0  Drama  24465"
      ]
     },
     "execution_count": 16,
     "metadata": {},
     "output_type": "execute_result"
    }
   ],
   "source": [
    "(\n",
    "    df\n",
    "    .withColumn('genre', f.explode(f.split('genres', '\\|')))\n",
    "    .groupby('genre')\n",
    "    .count()\n",
    "    .orderBy(f.desc('count'))\n",
    "    .limit(1)\n",
    "    .toPandas()\n",
    ")"
   ]
  },
  {
   "cell_type": "code",
   "execution_count": 19,
   "id": "0173b6b3-54ba-4aff-858b-ce37989ffa3d",
   "metadata": {},
   "outputs": [],
   "source": [
    "df_count = (\n",
    "    df\n",
    "    .withColumn('genre', f.explode(f.split('genres', '\\|')))\n",
    "    .groupby('genre')\n",
    "    .count()\n",
    ")"
   ]
  },
  {
   "cell_type": "code",
   "execution_count": 17,
   "id": "273f08b3-a2c0-402a-b348-de08b1db9e9a",
   "metadata": {},
   "outputs": [],
   "source": [
    "maximo = df_count.agg(f.max('count')).collect()[0][0]"
   ]
  },
  {
   "cell_type": "code",
   "execution_count": 20,
   "id": "be6f390e-99b7-4033-897f-747f0cb5af5b",
   "metadata": {},
   "outputs": [
    {
     "data": {
      "text/html": [
       "<div>\n",
       "<style scoped>\n",
       "    .dataframe tbody tr th:only-of-type {\n",
       "        vertical-align: middle;\n",
       "    }\n",
       "\n",
       "    .dataframe tbody tr th {\n",
       "        vertical-align: top;\n",
       "    }\n",
       "\n",
       "    .dataframe thead th {\n",
       "        text-align: right;\n",
       "    }\n",
       "</style>\n",
       "<table border=\"1\" class=\"dataframe\">\n",
       "  <thead>\n",
       "    <tr style=\"text-align: right;\">\n",
       "      <th></th>\n",
       "      <th>genre</th>\n",
       "      <th>count</th>\n",
       "    </tr>\n",
       "  </thead>\n",
       "  <tbody>\n",
       "    <tr>\n",
       "      <th>0</th>\n",
       "      <td>Drama</td>\n",
       "      <td>24465</td>\n",
       "    </tr>\n",
       "  </tbody>\n",
       "</table>\n",
       "</div>"
      ],
      "text/plain": [
       "   genre  count\n",
       "0  Drama  24465"
      ]
     },
     "execution_count": 20,
     "metadata": {},
     "output_type": "execute_result"
    }
   ],
   "source": [
    "df_count.filter(f'count = {maximo}').toPandas()"
   ]
  },
  {
   "cell_type": "markdown",
   "id": "fb232dc5-c5b9-4c3c-96d7-aa50c3952e7d",
   "metadata": {},
   "source": [
    "### Questão 8"
   ]
  },
  {
   "cell_type": "code",
   "execution_count": 21,
   "id": "dfb55b73-64c9-46cc-bfbf-0bbfface885b",
   "metadata": {},
   "outputs": [],
   "source": [
    "df_exploded = df.withColumn('genre', f.explode(f.split('genres', '\\|')))"
   ]
  },
  {
   "cell_type": "code",
   "execution_count": 23,
   "id": "748f88a9-0172-4e9c-b900-a43a5ba954b7",
   "metadata": {},
   "outputs": [
    {
     "data": {
      "text/plain": [
       "Column<'averageRating'>"
      ]
     },
     "execution_count": 23,
     "metadata": {},
     "output_type": "execute_result"
    }
   ],
   "source": [
    "f.col('averageRating')"
   ]
  },
  {
   "cell_type": "code",
   "execution_count": 24,
   "id": "9998ca48-1198-4d45-809f-db8bdb79e295",
   "metadata": {},
   "outputs": [
    {
     "data": {
      "text/plain": [
       "Column<'averageRating AS `best_rating`'>"
      ]
     },
     "execution_count": 24,
     "metadata": {},
     "output_type": "execute_result"
    }
   ],
   "source": [
    "f.col('averageRating').alias('best_rating')"
   ]
  },
  {
   "cell_type": "code",
   "execution_count": 27,
   "id": "de33a02c-8021-4b1d-875a-eb1b07232cd5",
   "metadata": {},
   "outputs": [
    {
     "data": {
      "text/html": [
       "<div>\n",
       "<style scoped>\n",
       "    .dataframe tbody tr th:only-of-type {\n",
       "        vertical-align: middle;\n",
       "    }\n",
       "\n",
       "    .dataframe tbody tr th {\n",
       "        vertical-align: top;\n",
       "    }\n",
       "\n",
       "    .dataframe thead th {\n",
       "        text-align: right;\n",
       "    }\n",
       "</style>\n",
       "<table border=\"1\" class=\"dataframe\">\n",
       "  <thead>\n",
       "    <tr style=\"text-align: right;\">\n",
       "      <th></th>\n",
       "      <th>genre</th>\n",
       "      <th>best_rating</th>\n",
       "    </tr>\n",
       "  </thead>\n",
       "  <tbody>\n",
       "    <tr>\n",
       "      <th>0</th>\n",
       "      <td>Documentary</td>\n",
       "      <td>3.382493</td>\n",
       "    </tr>\n",
       "  </tbody>\n",
       "</table>\n",
       "</div>"
      ],
      "text/plain": [
       "         genre  best_rating\n",
       "0  Documentary     3.382493"
      ]
     },
     "execution_count": 27,
     "metadata": {},
     "output_type": "execute_result"
    }
   ],
   "source": [
    "(\n",
    "    df_exploded\n",
    "    .groupby('genre')\n",
    "    .agg(f.avg('averageRating').alias('best_rating'))\n",
    "    .orderBy(f.desc('best_rating'))\n",
    "    .limit(1)\n",
    "    .toPandas()\n",
    ")"
   ]
  },
  {
   "cell_type": "markdown",
   "id": "2512642f-1c19-4ace-9eec-9df3c92da3e8",
   "metadata": {
    "tags": []
   },
   "source": [
    "### Questão 9"
   ]
  },
  {
   "cell_type": "code",
   "execution_count": 28,
   "id": "3a381a8d-2f06-44c6-8ef0-b8e54f89aaf8",
   "metadata": {},
   "outputs": [
    {
     "data": {
      "text/html": [
       "<div>\n",
       "<style scoped>\n",
       "    .dataframe tbody tr th:only-of-type {\n",
       "        vertical-align: middle;\n",
       "    }\n",
       "\n",
       "    .dataframe tbody tr th {\n",
       "        vertical-align: top;\n",
       "    }\n",
       "\n",
       "    .dataframe thead th {\n",
       "        text-align: right;\n",
       "    }\n",
       "</style>\n",
       "<table border=\"1\" class=\"dataframe\">\n",
       "  <thead>\n",
       "    <tr style=\"text-align: right;\">\n",
       "      <th></th>\n",
       "      <th>movieId</th>\n",
       "      <th>averageRating</th>\n",
       "      <th>title</th>\n",
       "      <th>genres</th>\n",
       "      <th>year</th>\n",
       "      <th>genre</th>\n",
       "    </tr>\n",
       "  </thead>\n",
       "  <tbody>\n",
       "    <tr>\n",
       "      <th>0</th>\n",
       "      <td>151569</td>\n",
       "      <td>5.000000</td>\n",
       "      <td>The Old Fairy Tale: When the Sun Was God (2003)</td>\n",
       "      <td>Drama|Fantasy</td>\n",
       "      <td>2003</td>\n",
       "      <td>Fantasy</td>\n",
       "    </tr>\n",
       "    <tr>\n",
       "      <th>1</th>\n",
       "      <td>7153</td>\n",
       "      <td>4.090340</td>\n",
       "      <td>Lord of the Rings: The Return of the King, The...</td>\n",
       "      <td>Action|Adventure|Drama|Fantasy</td>\n",
       "      <td>2003</td>\n",
       "      <td>Fantasy</td>\n",
       "    </tr>\n",
       "    <tr>\n",
       "      <th>2</th>\n",
       "      <td>153346</td>\n",
       "      <td>4.000000</td>\n",
       "      <td>Woodenhead (2003)</td>\n",
       "      <td>Fantasy</td>\n",
       "      <td>2003</td>\n",
       "      <td>Fantasy</td>\n",
       "    </tr>\n",
       "    <tr>\n",
       "      <th>3</th>\n",
       "      <td>6773</td>\n",
       "      <td>3.833869</td>\n",
       "      <td>Triplets of Belleville, The (Les triplettes de...</td>\n",
       "      <td>Animation|Comedy|Fantasy</td>\n",
       "      <td>2003</td>\n",
       "      <td>Fantasy</td>\n",
       "    </tr>\n",
       "    <tr>\n",
       "      <th>4</th>\n",
       "      <td>187027</td>\n",
       "      <td>3.800000</td>\n",
       "      <td>Inuyasha the Movie 3: Swords of an Honorable R...</td>\n",
       "      <td>Animation|Fantasy|Sci-Fi</td>\n",
       "      <td>2003</td>\n",
       "      <td>Fantasy</td>\n",
       "    </tr>\n",
       "  </tbody>\n",
       "</table>\n",
       "</div>"
      ],
      "text/plain": [
       "  movieId  averageRating                                              title  \\\n",
       "0  151569       5.000000    The Old Fairy Tale: When the Sun Was God (2003)   \n",
       "1    7153       4.090340  Lord of the Rings: The Return of the King, The...   \n",
       "2  153346       4.000000                                  Woodenhead (2003)   \n",
       "3    6773       3.833869  Triplets of Belleville, The (Les triplettes de...   \n",
       "4  187027       3.800000  Inuyasha the Movie 3: Swords of an Honorable R...   \n",
       "\n",
       "                           genres  year    genre  \n",
       "0                   Drama|Fantasy  2003  Fantasy  \n",
       "1  Action|Adventure|Drama|Fantasy  2003  Fantasy  \n",
       "2                         Fantasy  2003  Fantasy  \n",
       "3        Animation|Comedy|Fantasy  2003  Fantasy  \n",
       "4        Animation|Fantasy|Sci-Fi  2003  Fantasy  "
      ]
     },
     "execution_count": 28,
     "metadata": {},
     "output_type": "execute_result"
    }
   ],
   "source": [
    "(\n",
    "    df_exploded\n",
    "    .filter('genre = \"Fantasy\" and year = \"2003\"')\n",
    "    .orderBy(f.desc('averageRating'))\n",
    "    .limit(5)\n",
    "    .toPandas()\n",
    ")"
   ]
  },
  {
   "cell_type": "markdown",
   "id": "ccd0851b-fb56-45f9-8000-d61a32ced078",
   "metadata": {
    "tags": []
   },
   "source": [
    "### Questão 11"
   ]
  },
  {
   "cell_type": "code",
   "execution_count": 34,
   "id": "797f74c4-ef82-4b05-997f-aad30fa8d75d",
   "metadata": {},
   "outputs": [],
   "source": [
    "df_agg = df.groupby('year').count().withColumnRenamed('count', 'n_titles')"
   ]
  },
  {
   "cell_type": "code",
   "execution_count": 36,
   "id": "5558bf7c-9672-4707-bcb5-263b0fde05ef",
   "metadata": {},
   "outputs": [
    {
     "data": {
      "text/html": [
       "<div>\n",
       "<style scoped>\n",
       "    .dataframe tbody tr th:only-of-type {\n",
       "        vertical-align: middle;\n",
       "    }\n",
       "\n",
       "    .dataframe tbody tr th {\n",
       "        vertical-align: top;\n",
       "    }\n",
       "\n",
       "    .dataframe thead th {\n",
       "        text-align: right;\n",
       "    }\n",
       "</style>\n",
       "<table border=\"1\" class=\"dataframe\">\n",
       "  <thead>\n",
       "    <tr style=\"text-align: right;\">\n",
       "      <th></th>\n",
       "      <th>year</th>\n",
       "      <th>genre</th>\n",
       "      <th>n_titles</th>\n",
       "      <th>count</th>\n",
       "      <th>perc</th>\n",
       "    </tr>\n",
       "  </thead>\n",
       "  <tbody>\n",
       "    <tr>\n",
       "      <th>0</th>\n",
       "      <td>2018</td>\n",
       "      <td>Comedy</td>\n",
       "      <td>2018</td>\n",
       "      <td>493</td>\n",
       "      <td>0.244301</td>\n",
       "    </tr>\n",
       "  </tbody>\n",
       "</table>\n",
       "</div>"
      ],
      "text/plain": [
       "   year   genre  n_titles  count      perc\n",
       "0  2018  Comedy      2018    493  0.244301"
      ]
     },
     "execution_count": 36,
     "metadata": {},
     "output_type": "execute_result"
    }
   ],
   "source": [
    "(\n",
    "    df.join(df_agg, 'year', 'left')\n",
    "    .withColumn('genre', f.explode(f.split('genres', '\\|')))\n",
    "    .filter(\"year = 2018\")\n",
    "    .groupby('year', 'genre', 'n_titles')\n",
    "    .count()\n",
    "    .withColumn('perc', f.col('count')/f.col('n_titles'))\n",
    "    .filter('genre = \"Comedy\"')\n",
    "    .toPandas()\n",
    ")"
   ]
  },
  {
   "cell_type": "markdown",
   "id": "19813da8-d977-4506-8d3b-b22c821ba1c0",
   "metadata": {
    "tags": []
   },
   "source": [
    "### Questão 14"
   ]
  },
  {
   "cell_type": "markdown",
   "id": "d98835d3-f432-4724-be4c-39117b328394",
   "metadata": {},
   "source": [
    "#### Errado"
   ]
  },
  {
   "cell_type": "code",
   "execution_count": 37,
   "id": "05f28310-1f5f-4381-bcf4-944c6ee239cd",
   "metadata": {},
   "outputs": [],
   "source": [
    "from pyspark.sql.functions import udf\n",
    "from pyspark.sql.types import IntegerType\n",
    "\n",
    "def sqr_divide(value):\n",
    "    return (value**2)/2\n",
    "sqr_divide_udf = udf(sqr_divide, IntegerType())"
   ]
  },
  {
   "cell_type": "code",
   "execution_count": 38,
   "id": "4142ee9f-b240-48fa-85fe-2a5e280b1d27",
   "metadata": {},
   "outputs": [
    {
     "data": {
      "text/html": [
       "<div>\n",
       "<style scoped>\n",
       "    .dataframe tbody tr th:only-of-type {\n",
       "        vertical-align: middle;\n",
       "    }\n",
       "\n",
       "    .dataframe tbody tr th {\n",
       "        vertical-align: top;\n",
       "    }\n",
       "\n",
       "    .dataframe thead th {\n",
       "        text-align: right;\n",
       "    }\n",
       "</style>\n",
       "<table border=\"1\" class=\"dataframe\">\n",
       "  <thead>\n",
       "    <tr style=\"text-align: right;\">\n",
       "      <th></th>\n",
       "      <th>averageRating</th>\n",
       "    </tr>\n",
       "  </thead>\n",
       "  <tbody>\n",
       "    <tr>\n",
       "      <th>0</th>\n",
       "      <td>NaN</td>\n",
       "    </tr>\n",
       "  </tbody>\n",
       "</table>\n",
       "</div>"
      ],
      "text/plain": [
       "   averageRating\n",
       "0            NaN"
      ]
     },
     "execution_count": 38,
     "metadata": {},
     "output_type": "execute_result"
    }
   ],
   "source": [
    "(\n",
    "    df.select(sqr_divide_udf('averageRating').alias('averageRating'))\n",
    "    .agg(f.mean('averageRating').alias('averageRating'))\n",
    "    .toPandas()\n",
    ")"
   ]
  },
  {
   "cell_type": "markdown",
   "id": "e1022e09-505c-4b3f-beca-63646120031d",
   "metadata": {},
   "source": [
    "#### Correto"
   ]
  },
  {
   "cell_type": "code",
   "execution_count": 39,
   "id": "e4d929c7-430b-4d63-a542-ed54ec1d6338",
   "metadata": {},
   "outputs": [
    {
     "data": {
      "text/plain": [
       "float"
      ]
     },
     "execution_count": 39,
     "metadata": {},
     "output_type": "execute_result"
    }
   ],
   "source": [
    "type((5**2)/2)"
   ]
  },
  {
   "cell_type": "code",
   "execution_count": 40,
   "id": "a4a226ff-224a-47fb-ab56-32121638a1ac",
   "metadata": {},
   "outputs": [],
   "source": [
    "from pyspark.sql.functions import udf\n",
    "from pyspark.sql.types import  DoubleType\n",
    "\n",
    "def sqr_divide(value):\n",
    "    return (value**2)/2\n",
    "sqr_divide_udf = udf(sqr_divide, DoubleType())"
   ]
  },
  {
   "cell_type": "code",
   "execution_count": 41,
   "id": "4df3876b-8f3e-49e1-9162-a8a22def9c17",
   "metadata": {},
   "outputs": [
    {
     "data": {
      "text/html": [
       "<div>\n",
       "<style scoped>\n",
       "    .dataframe tbody tr th:only-of-type {\n",
       "        vertical-align: middle;\n",
       "    }\n",
       "\n",
       "    .dataframe tbody tr th {\n",
       "        vertical-align: top;\n",
       "    }\n",
       "\n",
       "    .dataframe thead th {\n",
       "        text-align: right;\n",
       "    }\n",
       "</style>\n",
       "<table border=\"1\" class=\"dataframe\">\n",
       "  <thead>\n",
       "    <tr style=\"text-align: right;\">\n",
       "      <th></th>\n",
       "      <th>averageRating</th>\n",
       "    </tr>\n",
       "  </thead>\n",
       "  <tbody>\n",
       "    <tr>\n",
       "      <th>0</th>\n",
       "      <td>4.990346</td>\n",
       "    </tr>\n",
       "  </tbody>\n",
       "</table>\n",
       "</div>"
      ],
      "text/plain": [
       "   averageRating\n",
       "0       4.990346"
      ]
     },
     "execution_count": 41,
     "metadata": {},
     "output_type": "execute_result"
    }
   ],
   "source": [
    "(\n",
    "    df.select(sqr_divide_udf('averageRating').alias('averageRating'))\n",
    "    .agg(f.mean('averageRating').alias('averageRating'))\n",
    "    .toPandas()\n",
    ")"
   ]
  }
 ],
 "metadata": {
  "kernelspec": {
   "display_name": "Python 3 (ipykernel)",
   "language": "python",
   "name": "python3"
  },
  "language_info": {
   "codemirror_mode": {
    "name": "ipython",
    "version": 3
   },
   "file_extension": ".py",
   "mimetype": "text/x-python",
   "name": "python",
   "nbconvert_exporter": "python",
   "pygments_lexer": "ipython3",
   "version": "3.9.6"
  }
 },
 "nbformat": 4,
 "nbformat_minor": 5
}
